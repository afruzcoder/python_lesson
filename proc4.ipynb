{
 "cells": [
  {
   "cell_type": "code",
   "execution_count": null,
   "id": "7dff3088",
   "metadata": {},
   "outputs": [],
   "source": [
    "import math\n",
    "\n",
    "def trianglePS(a):\n",
    "    P = 3*a\n",
    "    S = a*a*math.sqrt(3)/4\n",
    "    return P,S\n",
    "t1 = float(input())\n",
    "t2 = float(input())\n",
    "t3 = float(input())\n",
    "print(trianglePS(t1))\n",
    "print(trianglePS(t2))\n",
    "print(trianglePS(t3)) "
   ]
  }
 ],
 "metadata": {
  "kernelspec": {
   "display_name": "Python 3",
   "language": "python",
   "name": "python3"
  },
  "language_info": {
   "codemirror_mode": {
    "name": "ipython",
    "version": 3
   },
   "file_extension": ".py",
   "mimetype": "text/x-python",
   "name": "python",
   "nbconvert_exporter": "python",
   "pygments_lexer": "ipython3",
   "version": "3.8.8"
  }
 },
 "nbformat": 4,
 "nbformat_minor": 5
}
