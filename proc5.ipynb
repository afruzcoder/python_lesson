{
 "cells": [
  {
   "cell_type": "code",
   "execution_count": 2,
   "id": "3c20aacb",
   "metadata": {},
   "outputs": [
    {
     "name": "stdout",
     "output_type": "stream",
     "text": [
      "x1 = 3\n",
      "y1 = 3\n",
      "x2 = 5\n",
      "y2 = 5\n",
      "(8, 4)\n"
     ]
    }
   ],
   "source": [
    "def RectPS(x1,y1,x2,y2):\n",
    "    a = abs(x1-x2)\n",
    "    b = abs(y1-y2)\n",
    "    P = 2*(a+b)\n",
    "    S = a*b\n",
    "    return P,S\n",
    "x1 = int(input(\"x1 = \"))\n",
    "y1 = int(input(\"y1 = \"))\n",
    "x2 = int(input(\"x2 = \"))\n",
    "y2 = int(input(\"y2 = \"))\n",
    "f = RectPS(x1,y1,x2,y2)\n",
    "print(f)"
   ]
  }
 ],
 "metadata": {
  "kernelspec": {
   "display_name": "Python 3",
   "language": "python",
   "name": "python3"
  },
  "language_info": {
   "codemirror_mode": {
    "name": "ipython",
    "version": 3
   },
   "file_extension": ".py",
   "mimetype": "text/x-python",
   "name": "python",
   "nbconvert_exporter": "python",
   "pygments_lexer": "ipython3",
   "version": "3.8.8"
  }
 },
 "nbformat": 4,
 "nbformat_minor": 5
}
