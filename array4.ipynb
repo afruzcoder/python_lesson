{
 "cells": [
  {
   "cell_type": "code",
   "execution_count": 1,
   "id": "559645a6",
   "metadata": {},
   "outputs": [
    {
     "name": "stdout",
     "output_type": "stream",
     "text": [
      "Enter length: 5\n",
      "Enter a: 3\n",
      "Enter d: 3\n",
      "[3, 9, 27, 81, 243]\n"
     ]
    }
   ],
   "source": [
    "n=int(input(\"Enter length: \"))\n",
    "a=int(input(\"Enter a: \"))\n",
    "d=int(input(\"Enter d: \"))\n",
    "list1=[]\n",
    "i=0\n",
    "while i<n:\n",
    "    list1.append(a*(d**i))\n",
    "    i+=1\n",
    "print(list1)"
   ]
  }
 ],
 "metadata": {
  "kernelspec": {
   "display_name": "Python 3",
   "language": "python",
   "name": "python3"
  },
  "language_info": {
   "codemirror_mode": {
    "name": "ipython",
    "version": 3
   },
   "file_extension": ".py",
   "mimetype": "text/x-python",
   "name": "python",
   "nbconvert_exporter": "python",
   "pygments_lexer": "ipython3",
   "version": "3.8.8"
  }
 },
 "nbformat": 4,
 "nbformat_minor": 5
}
