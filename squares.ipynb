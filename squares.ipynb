{
 "cells": [
  {
   "cell_type": "code",
   "execution_count": 1,
   "id": "bef80b44",
   "metadata": {},
   "outputs": [],
   "source": [
    "import turtle\n",
    "\n",
    "a = turtle.Turtle()\n",
    "a.shape(\"turtle\")\n",
    "a.pencolor(\"blue\")\n",
    "a.width(2)\n",
    "\n",
    "i = 0\n",
    "n = 300\n",
    "while i < 6:\n",
    "    a.forward(n)\n",
    "    a.left(90)\n",
    "    a.forward(n)\n",
    "    a.left(90)\n",
    "    a.forward(n)\n",
    "    a.left(90)\n",
    "    a.forward(n)\n",
    "    a.left(90)\n",
    "    \n",
    "    a.up()\n",
    "    a.forward(25)\n",
    "    a.left(90)\n",
    "    a.forward(25)\n",
    "    a.right(90)\n",
    "    a.down()\n",
    "    \n",
    "    n -= 50\n",
    "    i += 1\n",
    "    \n",
    "turtle.exitonclick()"
   ]
  }
 ],
 "metadata": {
  "kernelspec": {
   "display_name": "Python 3",
   "language": "python",
   "name": "python3"
  },
  "language_info": {
   "codemirror_mode": {
    "name": "ipython",
    "version": 3
   },
   "file_extension": ".py",
   "mimetype": "text/x-python",
   "name": "python",
   "nbconvert_exporter": "python",
   "pygments_lexer": "ipython3",
   "version": "3.8.8"
  }
 },
 "nbformat": 4,
 "nbformat_minor": 5
}
