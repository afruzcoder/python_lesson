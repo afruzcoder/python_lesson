{
 "cells": [
  {
   "cell_type": "code",
   "execution_count": 1,
   "id": "297bb79c",
   "metadata": {},
   "outputs": [
    {
     "name": "stdout",
     "output_type": "stream",
     "text": [
      "n = 234\n",
      "двести тридцать четыре\n"
     ]
    }
   ],
   "source": [
    "dcat = {\n",
    "    11 : 'одинадцать',\n",
    "    12 : 'двенадцать',\n",
    "    13 : 'тринадцать',\n",
    "    14 : 'четырнадцать',\n",
    "    15 : 'пятнадцать',\n",
    "    16 : 'шестнадцать',\n",
    "    17 : 'семнадцать',\n",
    "    18 : 'восемнадцать',\n",
    "    19 : 'девятнадцать',\n",
    "}\n",
    "\n",
    "desyatki = {\n",
    "    10 : 'десять',\n",
    "    20 : 'двадцать',\n",
    "    30 : 'тридцать',\n",
    "    40 : 'сорок',\n",
    "    50 : \"пятьдесят\",\n",
    "    60 : \"шестьдесят\",\n",
    "    70 : \"семьдесят\",\n",
    "    80 : \"восемдесят\",\n",
    "    90 : \"девяносто\",\n",
    "}\n",
    "\n",
    "edinici = {\n",
    "    1 : 'одно',\n",
    "    2 : 'два',\n",
    "    3 : 'три',\n",
    "    4 : 'четыре',\n",
    "    5 : 'пять',\n",
    "    6 : 'шесть',\n",
    "    7 : 'семь',\n",
    "    8 : 'восемь',\n",
    "    9 : 'девять',\n",
    "}\n",
    "\n",
    "sotni = {\n",
    "    100 : 'сто',\n",
    "    200 : 'двести',\n",
    "    300 : 'триста',\n",
    "    400 : 'четыреста',\n",
    "    500 : 'пятисот',\n",
    "    600 : 'шестисот',\n",
    "    700 : 'семьсот',\n",
    "    800 : 'восемьсот',\n",
    "    900 : 'девятьсот',\n",
    "}\n",
    "\n",
    "n = int(input('n = '))\n",
    "s = ''\n",
    "q = n//100*100\n",
    "s += sotni[q]\n",
    "n -= q\n",
    "if 10 < n and n < 20:\n",
    "    s += ' ' + dcat[n]\n",
    "else:\n",
    "    r = n%10\n",
    "    q = n//10*10\n",
    "    if q!=0:\n",
    "        s += ' ' + desyatki[q]\n",
    "    if r!=0:\n",
    "        s += ' ' + edinici[r]\n",
    "print(s)"
   ]
  }
 ],
 "metadata": {
  "kernelspec": {
   "display_name": "Python 3",
   "language": "python",
   "name": "python3"
  },
  "language_info": {
   "codemirror_mode": {
    "name": "ipython",
    "version": 3
   },
   "file_extension": ".py",
   "mimetype": "text/x-python",
   "name": "python",
   "nbconvert_exporter": "python",
   "pygments_lexer": "ipython3",
   "version": "3.8.8"
  }
 },
 "nbformat": 4,
 "nbformat_minor": 5
}
