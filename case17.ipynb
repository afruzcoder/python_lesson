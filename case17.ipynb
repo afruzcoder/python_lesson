{
 "cells": [
  {
   "cell_type": "code",
   "execution_count": 1,
   "id": "c04a5c7b",
   "metadata": {},
   "outputs": [
    {
     "name": "stdout",
     "output_type": "stream",
     "text": [
      "n = 24\n",
      "двадцать четыре учебных задания\n"
     ]
    }
   ],
   "source": [
    "dcat = {\n",
    "    11 : 'одинадцать',\n",
    "    12 : 'двенадцать',\n",
    "    13 : 'тринадцать',\n",
    "    14 : 'четырнадцать',\n",
    "    15 : 'пятнадцать',\n",
    "    16 : 'шестнадцать',\n",
    "    17 : 'семнадцать',\n",
    "    18 : 'восемнадцать',\n",
    "    19 : 'девятнадцать',\n",
    "}\n",
    "\n",
    "desyatki = {\n",
    "    10 : 'десять',\n",
    "    20 : 'двадцать',\n",
    "    30 : 'тридцать',\n",
    "    40 : 'сорок',\n",
    "    50 : \"пятьдесят\",\n",
    "    60 : \"шестьдесят\",\n",
    "    70 : \"семьдесят\",\n",
    "    80 : \"восемдесят\",\n",
    "    90 : \"девяносто\",\n",
    "}\n",
    "\n",
    "edinici = {\n",
    "    1 : 'одно учебное задание',\n",
    "    2 : 'два учебных задания',\n",
    "    3 : 'три учебных задания',\n",
    "    4 : 'четыре учебных задания',\n",
    "    5 : 'пять учебных заданий',\n",
    "    6 : 'шесть учебных заданий',\n",
    "    7 : 'семь учебных заданий',\n",
    "    8 : 'восемь учебных заданий',\n",
    "    9 : 'девять учебных заданий',\n",
    "}\n",
    "\n",
    "n = int(input('n = '))\n",
    "if 10 < n and n < 20:\n",
    "    print(dcat[n],\"учебных заданий\")\n",
    "else:\n",
    "    r = n%10\n",
    "    if r == 0:\n",
    "        print(desyatki[n],\"учебных заданий\")\n",
    "    else:\n",
    "        q = n//10*10\n",
    "        print(desyatki[q],edinici[r])\n"
   ]
  }
 ],
 "metadata": {
  "kernelspec": {
   "display_name": "Python 3",
   "language": "python",
   "name": "python3"
  },
  "language_info": {
   "codemirror_mode": {
    "name": "ipython",
    "version": 3
   },
   "file_extension": ".py",
   "mimetype": "text/x-python",
   "name": "python",
   "nbconvert_exporter": "python",
   "pygments_lexer": "ipython3",
   "version": "3.8.8"
  }
 },
 "nbformat": 4,
 "nbformat_minor": 5
}
