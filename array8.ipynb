{
 "cells": [
  {
   "cell_type": "code",
   "execution_count": null,
   "id": "d0552f10",
   "metadata": {},
   "outputs": [],
   "source": [
    "n = int(input('Enter length: '))\n",
    "a = []\n",
    "b = []\n",
    "k = 0\n",
    "for i in range(0,n):\n",
    "    a.append(int(input()))\n",
    "for i in range(0,n):\n",
    "    if a[i]%2!=0:\n",
    "        print(a[i],end=' ')\n",
    "        k += 1\n",
    "print()\n",
    "print('k =',k)"
   ]
  }
 ],
 "metadata": {
  "kernelspec": {
   "display_name": "Python 3",
   "language": "python",
   "name": "python3"
  },
  "language_info": {
   "codemirror_mode": {
    "name": "ipython",
    "version": 3
   },
   "file_extension": ".py",
   "mimetype": "text/x-python",
   "name": "python",
   "nbconvert_exporter": "python",
   "pygments_lexer": "ipython3",
   "version": "3.8.8"
  }
 },
 "nbformat": 4,
 "nbformat_minor": 5
}
