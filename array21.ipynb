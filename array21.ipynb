{
 "cells": [
  {
   "cell_type": "code",
   "execution_count": 6,
   "id": "4e5f607e",
   "metadata": {},
   "outputs": [
    {
     "name": "stdout",
     "output_type": "stream",
     "text": [
      "Enter length: 5\n",
      "k = 2\n",
      "l = 4\n",
      "1\n",
      "2\n",
      "3\n",
      "4\n",
      "5\n",
      "2 3 4 \n",
      "3.0\n"
     ]
    }
   ],
   "source": [
    "n = int(input(\"Enter length: \"))\n",
    "k = int(input(\"k = \"))\n",
    "l = int(input(\"l = \"))\n",
    "s = 0\n",
    "a = []\n",
    "for i in range(0,n):\n",
    "    a.append(int(input()))\n",
    "    \n",
    "for i in range(k-1,l):\n",
    "    print(a[i], end=' ')\n",
    "    s += a[i]\n",
    "\n",
    "print()\n",
    "print(s/(l-k+1))\n",
    "    "
   ]
  }
 ],
 "metadata": {
  "kernelspec": {
   "display_name": "Python 3",
   "language": "python",
   "name": "python3"
  },
  "language_info": {
   "codemirror_mode": {
    "name": "ipython",
    "version": 3
   },
   "file_extension": ".py",
   "mimetype": "text/x-python",
   "name": "python",
   "nbconvert_exporter": "python",
   "pygments_lexer": "ipython3",
   "version": "3.8.8"
  }
 },
 "nbformat": 4,
 "nbformat_minor": 5
}
