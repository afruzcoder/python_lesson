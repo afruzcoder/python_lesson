{
 "cells": [
  {
   "cell_type": "code",
   "execution_count": 1,
   "id": "5a117447",
   "metadata": {},
   "outputs": [
    {
     "name": "stdout",
     "output_type": "stream",
     "text": [
      "Enter month: June\n",
      "30 days\n"
     ]
    }
   ],
   "source": [
    "n = str(input(\"Enter month: \"))\n",
    "d1 = {\n",
    "    \"January\" : \"31 days\",\n",
    "    \"February\" : \"28 days\",\n",
    "    \"March\" : \"31 days\",\n",
    "    \"April\" : \"30 days\",\n",
    "    \"May\" : \"31 days\",\n",
    "    \"June\" : \"30 days\",\n",
    "    \"July\" : \"31 days\",\n",
    "    \"August\" : \"31 days\",\n",
    "    \"September\" : \"30 days\",\n",
    "    \"October\" : \"31 days\",\n",
    "    \"November\" : \"30 days\",\n",
    "    \"December\": \"31 days\",\n",
    "}\n",
    "print(d1[n])"
   ]
  }
 ],
 "metadata": {
  "kernelspec": {
   "display_name": "Python 3",
   "language": "python",
   "name": "python3"
  },
  "language_info": {
   "codemirror_mode": {
    "name": "ipython",
    "version": 3
   },
   "file_extension": ".py",
   "mimetype": "text/x-python",
   "name": "python",
   "nbconvert_exporter": "python",
   "pygments_lexer": "ipython3",
   "version": "3.8.8"
  }
 },
 "nbformat": 4,
 "nbformat_minor": 5
}
