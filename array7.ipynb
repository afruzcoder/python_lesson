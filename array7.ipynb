{
 "cells": [
  {
   "cell_type": "code",
   "execution_count": 1,
   "id": "01222d7a",
   "metadata": {},
   "outputs": [
    {
     "name": "stdout",
     "output_type": "stream",
     "text": [
      "Enter length: 3\n",
      "1\n",
      "2\n",
      "3\n",
      "['3', '2', '1']\n"
     ]
    }
   ],
   "source": [
    "n=int(input(\"Enter length: \"))\n",
    "l1=[]\n",
    "i=0\n",
    "while i<n:\n",
    "    l1.append(input())\n",
    "    i+=1\n",
    "print(l1[::-1])"
   ]
  }
 ],
 "metadata": {
  "kernelspec": {
   "display_name": "Python 3",
   "language": "python",
   "name": "python3"
  },
  "language_info": {
   "codemirror_mode": {
    "name": "ipython",
    "version": 3
   },
   "file_extension": ".py",
   "mimetype": "text/x-python",
   "name": "python",
   "nbconvert_exporter": "python",
   "pygments_lexer": "ipython3",
   "version": "3.8.8"
  }
 },
 "nbformat": 4,
 "nbformat_minor": 5
}
