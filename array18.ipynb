{
 "cells": [
  {
   "cell_type": "code",
   "execution_count": null,
   "id": "a920825a",
   "metadata": {},
   "outputs": [],
   "source": [
    "n = 10\n",
    "a = []\n",
    "for i in range(0,n):\n",
    "    a.append(int(input()))\n",
    "b = True\n",
    "for i in range(0,n):\n",
    "    if a[i] < a[n-1]:\n",
    "        print(\"Answer:\",a[i])\n",
    "        b = False\n",
    "        break\n",
    "        \n",
    "if b:\n",
    "    print(0)"
   ]
  }
 ],
 "metadata": {
  "kernelspec": {
   "display_name": "Python 3",
   "language": "python",
   "name": "python3"
  },
  "language_info": {
   "codemirror_mode": {
    "name": "ipython",
    "version": 3
   },
   "file_extension": ".py",
   "mimetype": "text/x-python",
   "name": "python",
   "nbconvert_exporter": "python",
   "pygments_lexer": "ipython3",
   "version": "3.8.8"
  }
 },
 "nbformat": 4,
 "nbformat_minor": 5
}
