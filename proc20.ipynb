{
 "cells": [
  {
   "cell_type": "code",
   "execution_count": 6,
   "id": "0aee6f7b",
   "metadata": {},
   "outputs": [
    {
     "name": "stdout",
     "output_type": "stream",
     "text": [
      "1\n",
      "a: 8\n",
      "h: 4\n",
      "1 - result: (5.656854249492381, 19.31370849898476)\n",
      "2\n",
      "a: 10\n",
      "h: 0\n",
      "2 - result: (5.0, 20.0)\n",
      "3\n",
      "a: 20\n",
      "h: 0\n",
      "3 - result: (10.0, 40.0)\n"
     ]
    }
   ],
   "source": [
    "import math\n",
    "\n",
    "def TriagleP(a,h):\n",
    "    b = math.sqrt((a/2)**2 + h**2)\n",
    "    return (b,a+2*b)\n",
    "\n",
    "for i in range(1,4):\n",
    "    print(i)\n",
    "    a = int(input(\"a: \"))\n",
    "    h = int(input(\"h: \"))\n",
    "    print(i, \"- result:\", TriagleP(a,h))"
   ]
  }
 ],
 "metadata": {
  "kernelspec": {
   "display_name": "Python 3",
   "language": "python",
   "name": "python3"
  },
  "language_info": {
   "codemirror_mode": {
    "name": "ipython",
    "version": 3
   },
   "file_extension": ".py",
   "mimetype": "text/x-python",
   "name": "python",
   "nbconvert_exporter": "python",
   "pygments_lexer": "ipython3",
   "version": "3.8.8"
  }
 },
 "nbformat": 4,
 "nbformat_minor": 5
}
