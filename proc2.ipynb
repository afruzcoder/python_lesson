{
 "cells": [
  {
   "cell_type": "code",
   "execution_count": 1,
   "id": "decbb8fe",
   "metadata": {},
   "outputs": [
    {
     "name": "stdout",
     "output_type": "stream",
     "text": [
      "2\n",
      "3\n",
      "4\n",
      "5\n",
      "6\n",
      "(4, 8, 16)\n",
      "(9, 27, 81)\n",
      "(16, 64, 256)\n",
      "(25, 125, 625)\n",
      "(36, 216, 1296)\n"
     ]
    }
   ],
   "source": [
    "def powera234(a):\n",
    "    b = a**2\n",
    "    c = a**3\n",
    "    d = a**4\n",
    "    return b,c,d\n",
    "a = int(input())\n",
    "a1 = int(input())\n",
    "a2 = int(input())\n",
    "a3 = int(input())\n",
    "a4 = int(input())\n",
    "print(powera234(a))\n",
    "print(powera234(a1))\n",
    "print(powera234(a2))\n",
    "print(powera234(a3))\n",
    "print(powera234(a4))"
   ]
  }
 ],
 "metadata": {
  "kernelspec": {
   "display_name": "Python 3",
   "language": "python",
   "name": "python3"
  },
  "language_info": {
   "codemirror_mode": {
    "name": "ipython",
    "version": 3
   },
   "file_extension": ".py",
   "mimetype": "text/x-python",
   "name": "python",
   "nbconvert_exporter": "python",
   "pygments_lexer": "ipython3",
   "version": "3.8.8"
  }
 },
 "nbformat": 4,
 "nbformat_minor": 5
}
