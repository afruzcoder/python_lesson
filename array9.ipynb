{
 "cells": [
  {
   "cell_type": "code",
   "execution_count": null,
   "id": "875ab0ab",
   "metadata": {},
   "outputs": [],
   "source": [
    "n = int(input(\"Enter length: \"))\n",
    "a = []\n",
    "for i in range(0,n):\n",
    "    a.append(int(input()))\n",
    "k = 0\n",
    "for i in range(n,0,-1):\n",
    "    if a[i-1]%2 == 0:\n",
    "        k += 1\n",
    "        print(a[i-1],end=\" \")\n",
    "print()\n",
    "print('k =',k)"
   ]
  }
 ],
 "metadata": {
  "kernelspec": {
   "display_name": "Python 3",
   "language": "python",
   "name": "python3"
  },
  "language_info": {
   "codemirror_mode": {
    "name": "ipython",
    "version": 3
   },
   "file_extension": ".py",
   "mimetype": "text/x-python",
   "name": "python",
   "nbconvert_exporter": "python",
   "pygments_lexer": "ipython3",
   "version": "3.8.8"
  }
 },
 "nbformat": 4,
 "nbformat_minor": 5
}
