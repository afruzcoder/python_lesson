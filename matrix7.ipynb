{
 "cells": [
  {
   "cell_type": "code",
   "execution_count": 4,
   "id": "d7a538e7",
   "metadata": {},
   "outputs": [
    {
     "name": "stdout",
     "output_type": "stream",
     "text": [
      "m = 5 ; n = 7 ; k = 3\n",
      "[[ 4.  0.  3.  0.  3.  1.  2.]\n",
      " [ 1. -1.  4.  0. -4.  4.  3.]\n",
      " [-3.  2.  4.  4.  3.  4. -2.]\n",
      " [-1. -2.  1.  0. -2.  2. -5.]\n",
      " [-4. -4. -1.  3.  0.  2. -1.]]\n",
      "Строка 3 :\n",
      "[-1. -2.  1.  0. -2.  2. -5.]\n"
     ]
    }
   ],
   "source": [
    "import random\n",
    "import numpy\n",
    "\n",
    "m = random.randrange(2,10)\n",
    "n = random.randrange(2,10)\n",
    "k = random.randrange(0,m)\n",
    "print(\"m =\",m,\"; n =\",n,\"; k =\",k);\n",
    "a = numpy.zeros((m,n))\n",
    "\n",
    "for i in range(m):\n",
    "    for j in range(n):\n",
    "        a[i][j] = random.randrange(-5,5)\n",
    "print(a)\n",
    "print(\"Строка\",k,\":\")\n",
    "print(a[k])"
   ]
  }
 ],
 "metadata": {
  "kernelspec": {
   "display_name": "Python 3",
   "language": "python",
   "name": "python3"
  },
  "language_info": {
   "codemirror_mode": {
    "name": "ipython",
    "version": 3
   },
   "file_extension": ".py",
   "mimetype": "text/x-python",
   "name": "python",
   "nbconvert_exporter": "python",
   "pygments_lexer": "ipython3",
   "version": "3.8.8"
  }
 },
 "nbformat": 4,
 "nbformat_minor": 5
}
