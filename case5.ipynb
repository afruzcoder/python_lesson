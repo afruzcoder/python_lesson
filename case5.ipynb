{
 "cells": [
  {
   "cell_type": "code",
   "execution_count": 1,
   "id": "53c9c516",
   "metadata": {},
   "outputs": [
    {
     "name": "stdout",
     "output_type": "stream",
     "text": [
      "Enter operation: 1\n",
      "a: 2\n",
      "b: 3\n",
      "Result:  5\n"
     ]
    }
   ],
   "source": [
    "n = int(input(\"Enter operation: \"))\n",
    "a = int(input(\"a: \"))\n",
    "b = int(input(\"b: \"))\n",
    "d1 = {\n",
    "    1 : a + b ,\n",
    "    2 : a - b ,\n",
    "    3 : a * b ,\n",
    "    4 : a / b ,\n",
    "}\n",
    "print(\"Result: \", d1[n])"
   ]
  }
 ],
 "metadata": {
  "kernelspec": {
   "display_name": "Python 3",
   "language": "python",
   "name": "python3"
  },
  "language_info": {
   "codemirror_mode": {
    "name": "ipython",
    "version": 3
   },
   "file_extension": ".py",
   "mimetype": "text/x-python",
   "name": "python",
   "nbconvert_exporter": "python",
   "pygments_lexer": "ipython3",
   "version": "3.8.8"
  }
 },
 "nbformat": 4,
 "nbformat_minor": 5
}
