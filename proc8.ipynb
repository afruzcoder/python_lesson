{
 "cells": [
  {
   "cell_type": "code",
   "execution_count": 4,
   "id": "efa94265",
   "metadata": {},
   "outputs": [
    {
     "name": "stdout",
     "output_type": "stream",
     "text": [
      "3\n",
      "4\n",
      "5\n",
      "34\n",
      "35\n"
     ]
    }
   ],
   "source": [
    "def AddRightDigit(d,k):\n",
    "    s = str(k)\n",
    "    s1 = str(d)\n",
    "    q = s + s1\n",
    "    return int(q)\n",
    "k = int(input())\n",
    "d = int(input())\n",
    "d1 = int(input())\n",
    "print(AddRightDigit(d,k))\n",
    "print(AddRightDigit(d1,k))"
   ]
  }
 ],
 "metadata": {
  "kernelspec": {
   "display_name": "Python 3",
   "language": "python",
   "name": "python3"
  },
  "language_info": {
   "codemirror_mode": {
    "name": "ipython",
    "version": 3
   },
   "file_extension": ".py",
   "mimetype": "text/x-python",
   "name": "python",
   "nbconvert_exporter": "python",
   "pygments_lexer": "ipython3",
   "version": "3.8.8"
  }
 },
 "nbformat": 4,
 "nbformat_minor": 5
}
