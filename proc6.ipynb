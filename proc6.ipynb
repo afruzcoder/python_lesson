{
 "cells": [
  {
   "cell_type": "code",
   "execution_count": 2,
   "id": "a716bb2b",
   "metadata": {},
   "outputs": [
    {
     "name": "stdout",
     "output_type": "stream",
     "text": [
      "234\n",
      "222\n",
      "333\n",
      "444\n",
      "123\n",
      "(3, 9)\n",
      "(3, 6)\n",
      "(3, 9)\n",
      "(3, 12)\n",
      "(3, 6)\n"
     ]
    }
   ],
   "source": [
    "def DigitCountSum(k):\n",
    "    s = str(k)\n",
    "    n = len(s)\n",
    "    _sum = 0\n",
    "    for i in range(n):\n",
    "        _sum += int(s[i])\n",
    "    return n, _sum\n",
    "k = int(input())\n",
    "k1 = int(input())\n",
    "k2 = int(input())\n",
    "k3 = int(input())\n",
    "k4 = int(input())\n",
    "print(DigitCountSum(k))\n",
    "print(DigitCountSum(k1))\n",
    "print(DigitCountSum(k2))\n",
    "print(DigitCountSum(k3))\n",
    "print(DigitCountSum(k4))"
   ]
  }
 ],
 "metadata": {
  "kernelspec": {
   "display_name": "Python 3",
   "language": "python",
   "name": "python3"
  },
  "language_info": {
   "codemirror_mode": {
    "name": "ipython",
    "version": 3
   },
   "file_extension": ".py",
   "mimetype": "text/x-python",
   "name": "python",
   "nbconvert_exporter": "python",
   "pygments_lexer": "ipython3",
   "version": "3.8.8"
  }
 },
 "nbformat": 4,
 "nbformat_minor": 5
}
