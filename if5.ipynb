{
 "cells": [
  {
   "cell_type": "code",
   "execution_count": 1,
   "id": "11f83ba1",
   "metadata": {},
   "outputs": [
    {
     "name": "stdout",
     "output_type": "stream",
     "text": [
      "3\n",
      "-1\n",
      "3\n",
      "Отрицательные числа: 1\n",
      "Положительные числа: 2\n"
     ]
    }
   ],
   "source": [
    "a=int(input())\n",
    "b=int(input())\n",
    "c=int(input())\n",
    "k=0\n",
    "k1=0\n",
    "if a>0:\n",
    "    k+=1\n",
    "if b>0:\n",
    "    k+=1\n",
    "if c>0:\n",
    "    k+=1\n",
    "if a<0:\n",
    "    k1+=1\n",
    "if b<0:\n",
    "    k1+=1\n",
    "if c<0:\n",
    "    k1+=1\n",
    "print(\"Отрицательные числа:\",k1)\n",
    "print(\"Положительные числа:\",k)\n"
   ]
  }
 ],
 "metadata": {
  "kernelspec": {
   "display_name": "Python 3",
   "language": "python",
   "name": "python3"
  },
  "language_info": {
   "codemirror_mode": {
    "name": "ipython",
    "version": 3
   },
   "file_extension": ".py",
   "mimetype": "text/x-python",
   "name": "python",
   "nbconvert_exporter": "python",
   "pygments_lexer": "ipython3",
   "version": "3.8.8"
  }
 },
 "nbformat": 4,
 "nbformat_minor": 5
}
