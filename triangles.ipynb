{
 "cells": [
  {
   "cell_type": "code",
   "execution_count": 1,
   "id": "4b62f68b",
   "metadata": {},
   "outputs": [],
   "source": [
    "import turtle\n",
    "import math\n",
    "\n",
    "a = turtle.Turtle()\n",
    "a.shape(\"turtle\")\n",
    "a.pencolor(\"red\")\n",
    "\n",
    "i = 0\n",
    "b = 200\n",
    "c = 284\n",
    "\n",
    "while i < 4:\n",
    "    a.forward(b)\n",
    "    a.left(90)\n",
    "    a.forward(b)\n",
    "    a.right(225)\n",
    "    a.forward(c)\n",
    "    a.right(225)\n",
    "\n",
    "    a.up()\n",
    "    a.forward(40)\n",
    "    a.left(90)\n",
    "    a.forward(10)\n",
    "    a.right(90)\n",
    "    a.down()\n",
    "    \n",
    "    b -= 50\n",
    "    c = math.sqrt(b*b+b*b)\n",
    "    i += 1\n",
    "\n",
    "turtle.exitonclick()"
   ]
  }
 ],
 "metadata": {
  "kernelspec": {
   "display_name": "Python 3",
   "language": "python",
   "name": "python3"
  },
  "language_info": {
   "codemirror_mode": {
    "name": "ipython",
    "version": 3
   },
   "file_extension": ".py",
   "mimetype": "text/x-python",
   "name": "python",
   "nbconvert_exporter": "python",
   "pygments_lexer": "ipython3",
   "version": "3.8.8"
  }
 },
 "nbformat": 4,
 "nbformat_minor": 5
}
