{
 "cells": [
  {
   "cell_type": "code",
   "execution_count": 5,
   "id": "926a64fd",
   "metadata": {},
   "outputs": [
    {
     "name": "stdout",
     "output_type": "stream",
     "text": [
      "m = 5 ; n = 4 ; d = 2\n",
      "Набор из  5  чисел:\n",
      "[2, 4, 2, 1, 4]\n",
      "[[ 2.  4.  6.  8.]\n",
      " [ 4.  6.  8. 10.]\n",
      " [ 2.  4.  6.  8.]\n",
      " [ 1.  3.  5.  7.]\n",
      " [ 4.  6.  8. 10.]]\n"
     ]
    }
   ],
   "source": [
    "import random\n",
    "import numpy\n",
    "\n",
    "m = random.randrange(2,10)\n",
    "n = random.randrange(2,10)\n",
    "d = random.randrange(-5,5)\n",
    "print(\"m =\",m,\"; n =\",n,\"; d =\",d)\n",
    "a = numpy.zeros((m,n))\n",
    "\n",
    "c = [random.randrange(1,5) for i in range(m)]\n",
    "print(\"Набор из \",m,\" чисел:\")\n",
    "print(c)\n",
    "for i in range(m):\n",
    "    for j in range(n):\n",
    "        a[i][j] = c[i]+d*j\n",
    "print(a)"
   ]
  }
 ],
 "metadata": {
  "kernelspec": {
   "display_name": "Python 3",
   "language": "python",
   "name": "python3"
  },
  "language_info": {
   "codemirror_mode": {
    "name": "ipython",
    "version": 3
   },
   "file_extension": ".py",
   "mimetype": "text/x-python",
   "name": "python",
   "nbconvert_exporter": "python",
   "pygments_lexer": "ipython3",
   "version": "3.8.8"
  }
 },
 "nbformat": 4,
 "nbformat_minor": 5
}
