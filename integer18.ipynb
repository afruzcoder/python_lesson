{
 "cells": [
  {
   "cell_type": "code",
   "execution_count": 5,
   "id": "db5f0c05",
   "metadata": {},
   "outputs": [
    {
     "name": "stdout",
     "output_type": "stream",
     "text": [
      "n = 6356\n",
      "Деление на 1000: 6\n",
      "Остаток от деления на 10:  6\n",
      "Цифра в 1000-м разряде:  6\n"
     ]
    }
   ],
   "source": [
    "n = int(input(\"n = \"))\n",
    "d1 = int(n/1000)\n",
    "d2 = d1%10\n",
    "print(\"Деление на 1000:\",d1)\n",
    "print(\"Остаток от деления на 10: \",d2)\n",
    "print(\"Цифра в 1000-м разряде: \",d2)"
   ]
  }
 ],
 "metadata": {
  "kernelspec": {
   "display_name": "Python 3",
   "language": "python",
   "name": "python3"
  },
  "language_info": {
   "codemirror_mode": {
    "name": "ipython",
    "version": 3
   },
   "file_extension": ".py",
   "mimetype": "text/x-python",
   "name": "python",
   "nbconvert_exporter": "python",
   "pygments_lexer": "ipython3",
   "version": "3.8.8"
  }
 },
 "nbformat": 4,
 "nbformat_minor": 5
}
